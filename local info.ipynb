{
 "cells": [
  {
   "cell_type": "code",
   "execution_count": 1,
   "metadata": {},
   "outputs": [
    {
     "name": "stdout",
     "output_type": "stream",
     "text": [
      "You are located in Al Mas`udiya, IL \n",
      "\n",
      "Your latitude is 32.0833 and your longitude is 34.7833\n",
      "\n",
      "Here are some top news stories...\n",
      "\n",
      "1 -- Homes burn, families flee as brush fires rage throughout country - The Times of Israel\n",
      "\n",
      "https://news.google.com/__i/rss/rd/articles/CBMiZWh0dHBzOi8vd3d3LnRpbWVzb2Zpc3JhZWwuY29tL2JydXNoLWZpcmVzLXJhZ2UtdGhyb3VnaG91dC1jb3VudHJ5LWZvcmNpbmctcmVzaWRlbnRzLWZyb20tdGhlaXItaG9tZXMv0gEA?oc=5\n",
      "\n",
      "2 -- Donald Trump and the perils of loving Israel just a little too much - The Jerusalem Post\n",
      "\n",
      "https://news.google.com/__i/rss/rd/articles/CBMibGh0dHBzOi8vd3d3Lmpwb3N0LmNvbS9Jc3JhZWwtTmV3cy9Eb25hbGQtVHJ1bXAtYW5kLXRoZS1wZXJpbHMtb2YtbG92aW5nLUlzcmFlbC1qdXN0LWEtbGl0dGxlLXRvby1tdWNoLTU5NTkwM9IBbmh0dHBzOi8vbS5qcG9zdC5jb20vSXNyYWVsLU5ld3MvRG9uYWxkLVRydW1wLWFuZC10aGUtcGVyaWxzLW9mLWxvdmluZy1Jc3JhZWwtanVzdC1hLWxpdHRsZS10b28tbXVjaC01OTU5MDMvYW1w?oc=5\n",
      "\n",
      "3 -- After House rebukes his remarks as racist, Trump says congresswomen are worse - The Times of Israel\n",
      "\n",
      "https://news.google.com/__i/rss/rd/articles/CBMia2h0dHBzOi8vd3d3LnRpbWVzb2Zpc3JhZWwuY29tL2FmdGVyLWhvdXNlLXJlYnVrZXMtaGlzLXJlbWFya3MtYXMtcmFjaXN0LXRydW1wLXNheXMtY29uZ3Jlc3N3b21lbi1hcmUtd29yc2Uv0gEA?oc=5\n",
      "\n"
     ]
    }
   ],
   "source": [
    "import geocoder\n",
    "g = geocoder.ip('me')\n",
    "\n",
    "city, country = g.city, g.country\n",
    "print('You are located in',city+',',country,'\\n')\n",
    "\n",
    "lat,long = g.latlng[0],g.latlng[1]\n",
    "print('Your latitude is',lat,'and your longitude is',long)\n",
    "\n",
    "##city_site=\n",
    "##print('The offical city website is')\n",
    "##print(city_site)\n",
    "\n",
    "##print('The top attractions of this city are...')\n",
    "##for i in range(1,4):\n",
    "##    print(str(i)+\".\")\n",
    "    \n",
    "print('\\nHere are some top news stories...\\n')\n",
    "\n",
    "import bs4\n",
    "from bs4 import BeautifulSoup as soup\n",
    "from urllib.request import urlopen\n",
    "\n",
    "news_url=\"https://news.google.com/news/rss\"\n",
    "Client=urlopen(news_url)\n",
    "xml_page=Client.read()\n",
    "Client.close()\n",
    "\n",
    "soup_page=soup(xml_page,\"xml\")\n",
    "news_list=soup_page.findAll(\"item\")\n",
    "# Print news title, url and publish date\n",
    "n=3\n",
    "for news in news_list[:n]:\n",
    "    print(news_list.index(news)+1,'--',news.title.text+'\\n')\n",
    "    print(news.link.text+'\\n')\n",
    "##  print(news.pubDate.text)\n",
    "##  print(\"-\"*60)\n"
   ]
  },
  {
   "cell_type": "code",
   "execution_count": null,
   "metadata": {},
   "outputs": [],
   "source": []
  }
 ],
 "metadata": {
  "kernelspec": {
   "display_name": "Python 3",
   "language": "python",
   "name": "python3"
  },
  "language_info": {
   "codemirror_mode": {
    "name": "ipython",
    "version": 3
   },
   "file_extension": ".py",
   "mimetype": "text/x-python",
   "name": "python",
   "nbconvert_exporter": "python",
   "pygments_lexer": "ipython3",
   "version": "3.7.2"
  }
 },
 "nbformat": 4,
 "nbformat_minor": 2
}
